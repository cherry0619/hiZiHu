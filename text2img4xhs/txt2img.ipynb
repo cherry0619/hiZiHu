{
 "cells": [
  {
   "cell_type": "code",
   "execution_count": 30,
   "id": "07f5803b",
   "metadata": {},
   "outputs": [],
   "source": [
    "from PIL import Image, ImageDraw, ImageFont\n",
    "import textwrap"
   ]
  },
  {
   "cell_type": "code",
   "execution_count": 4,
   "id": "85c4afcd",
   "metadata": {},
   "outputs": [],
   "source": [
    "import glob"
   ]
  },
  {
   "cell_type": "code",
   "execution_count": 5,
   "id": "5fd2c194",
   "metadata": {},
   "outputs": [],
   "source": [
    "archive_path =glob.glob('../media/archive-zhihu/*.txt')"
   ]
  },
  {
   "cell_type": "code",
   "execution_count": 8,
   "id": "dfde711c",
   "metadata": {},
   "outputs": [],
   "source": [
    "sweet_novels =[]\n",
    "for i in archive_path:\n",
    "    if \"甜\" in i:\n",
    "        sweet_novels.append(i)"
   ]
  },
  {
   "cell_type": "code",
   "execution_count": 36,
   "id": "bb117a66",
   "metadata": {},
   "outputs": [],
   "source": [
    "# Define the text to be converted into images\n",
    "# text = \"This is an example text to be converted into multiple images.\"\n",
    "# archive_path ='../media/archive-zhihu/'\n",
    "idx =0\n",
    "with open(sweet_novels[idx]) as f:\n",
    "    text =f.readlines()\n",
    "    text =''.join(text)"
   ]
  },
  {
   "cell_type": "code",
   "execution_count": 38,
   "id": "1e9071b2",
   "metadata": {},
   "outputs": [],
   "source": [
    "# Define the font and font size to be used\n",
    "font = ImageFont.truetype(\"幼圆.TTF\", 24)\n",
    "\n",
    "# Define the width and height of each image\n",
    "image_width = 720\n",
    "image_height = 960"
   ]
  },
  {
   "cell_type": "code",
   "execution_count": 44,
   "id": "640944f4",
   "metadata": {},
   "outputs": [],
   "source": [
    "# Define the length of each chunk of text\n",
    "chunk_length = 1000\n",
    "\n",
    "# Split the input text into chunks of a certain length\n",
    "text_chunks = [text[i:i+chunk_length] for i in range(0, len(text), chunk_length)]\n",
    "\n",
    "# Loop through each chunk of text and create a new image for each one\n",
    "for i, chunk in enumerate(text_chunks):\n",
    "    # Split the chunk of text into lines based on the newline character '\\n'\n",
    "    lines = chunk.split('\\n')\n",
    "\n",
    "    # Create a new image\n",
    "    img = Image.new('RGB', (image_width, image_height), color=(255, 255, 255))\n",
    "\n",
    "    # Create a drawing context\n",
    "    d = ImageDraw.Draw(img)\n",
    "\n",
    "    # Define the starting position for the first line\n",
    "    x = 10\n",
    "    y = 10\n",
    "\n",
    "    # Loop through the lines and wrap each line to fit within the desired image width\n",
    "    for line in lines:\n",
    "        wrapped_lines = textwrap.wrap(line, width=30)\n",
    "\n",
    "        # Loop through the wrapped lines and draw them on the image\n",
    "        for wrapped_line in wrapped_lines:\n",
    "            d.text((x, y), wrapped_line, font=font, fill=(0, 0, 0))\n",
    "\n",
    "            # Update the y-coordinate for the next line\n",
    "            y += font.getsize(wrapped_line)[1] + 5\n",
    "\n",
    "    # Save the image to disk with a filename based on the index of the chunk\n",
    "    img.save(f\"output_{i}.png\")\n"
   ]
  },
  {
   "cell_type": "code",
   "execution_count": 43,
   "id": "4e2d3e7b",
   "metadata": {},
   "outputs": [],
   "source": [
    "rm -rf *.png"
   ]
  },
  {
   "cell_type": "code",
   "execution_count": null,
   "id": "0b8e8d2d",
   "metadata": {},
   "outputs": [],
   "source": []
  }
 ],
 "metadata": {
  "kernelspec": {
   "display_name": "Python 3 (ipykernel)",
   "language": "python",
   "name": "python3"
  },
  "language_info": {
   "codemirror_mode": {
    "name": "ipython",
    "version": 3
   },
   "file_extension": ".py",
   "mimetype": "text/x-python",
   "name": "python",
   "nbconvert_exporter": "python",
   "pygments_lexer": "ipython3",
   "version": "3.8.11"
  }
 },
 "nbformat": 4,
 "nbformat_minor": 5
}
